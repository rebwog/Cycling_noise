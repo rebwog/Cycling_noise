{
 "cells": [
  {
   "cell_type": "code",
   "execution_count": 15,
   "id": "ad0fcfae",
   "metadata": {},
   "outputs": [],
   "source": [
    "import numpy as np\n",
    "import pandas as pd\n",
    "import geopandas as gpd\n",
    "from shapely.geometry import Point\n",
    "from geopandas import GeoDataFrame\n",
    "import osmnx as ox\n",
    "from pyproj import CRS\n",
    "import matplotlib.pyplot as plt\n",
    "%matplotlib inline"
   ]
  },
  {
   "cell_type": "code",
   "execution_count": 8,
   "id": "e5fab89d",
   "metadata": {},
   "outputs": [],
   "source": [
    "# Estimate noise exposure of cyclist using EPA noise maps and monitoring stations\n",
    "\n",
    "# Worst case scenario\n",
    "Lw = 80; # Workplace level\n",
    "Lc = 70; # Cycling Level\n",
    "\n",
    "tw= 8;  # Workday duration\n",
    "tc = 1.5; # Cycling duration\n",
    "\n",
    "Exposure = 10*np.log10((tw*10**(Lw/10)+tc*10**(Lc/10))/8)\n",
    "\n",
    "tc = 8*10**8/10**7.5 "
   ]
  },
  {
   "cell_type": "code",
   "execution_count": 9,
   "id": "1e94ede1",
   "metadata": {},
   "outputs": [
    {
     "name": "stdout",
     "output_type": "stream",
     "text": [
      "80.08067621748033\n",
      "25.298221281347036\n"
     ]
    }
   ],
   "source": [
    "print(Exposure) # exposure of someone working 8 hours at 80db and cycling 1.5 hours at 70db\n",
    "print(tc) # hours cycling it would take to reach workplace limit of 80db\n"
   ]
  },
  {
   "cell_type": "markdown",
   "id": "78346844",
   "metadata": {},
   "source": [
    "# Noise monitoring stations"
   ]
  },
  {
   "cell_type": "markdown",
   "id": "864759c4",
   "metadata": {},
   "source": [
    "For monitors of interest: export hourly values and average using equations, compare against EPA Lden\n",
    "\n",
    "Lden is based on energy equivalent (Leq) over whole day with penalties applied"
   ]
  },
  {
   "cell_type": "code",
   "execution_count": 89,
   "id": "46a7871f",
   "metadata": {},
   "outputs": [],
   "source": [
    "# Stations for May 1 -31 2022\n",
    "# data is average sound LAeq levels for each hour of the day \n",
    "\n",
    "dolphins_noise = pd.read_csv(r'C:\\\\Users\\\\Rebecca\\\\Documents\\\\Trinity\\\\Thesis\\\\Dolphins_monitor_may_hourly.csv')\n",
    "rowing_noise = pd.read_csv(r'C:\\\\Users\\\\Rebecca\\\\Documents\\\\Trinity\\\\Thesis\\\\Rowing_monitor_may_hourly.csv')\n",
    "strand_noise = pd.read_csv(r'C:\\\\Users\\\\Rebecca\\\\Documents\\\\Trinity\\\\Thesis\\\\Strand_monitor_may_hourly.csv')\n",
    "ballymun_noise = pd.read_csv(r'C:\\\\Users\\\\Rebecca\\\\Documents\\\\Trinity\\\\Thesis\\\\Ballymun_monitor_may_hourly.csv')\n"
   ]
  },
  {
   "cell_type": "markdown",
   "id": "64b73cdc",
   "metadata": {},
   "source": [
    "### Calculate Lden from hourly averages"
   ]
  },
  {
   "cell_type": "code",
   "execution_count": 109,
   "id": "9d725c04",
   "metadata": {},
   "outputs": [
    {
     "data": {
      "text/plain": [
       "62.520309460273594"
      ]
     },
     "execution_count": 109,
     "metadata": {},
     "output_type": "execute_result"
    }
   ],
   "source": [
    "# Convert from hourly average to Lden\n",
    "\n",
    "# Dolphins barn station\n",
    "day = dolphins_noise.iloc[6:18] # 7 am to 6 pm inclusive\n",
    "eve = dolphins_noise.iloc[18:22] # 7 pm to 10 pm inlcusive\n",
    "night = pd.concat([dolphins_noise.iloc[22:,], dolphins_noise.iloc[0:6]]) # 11pm-6 am inclusive\n",
    "\n",
    "lday = 10*np.log10((1*10**(day.iloc[0,1]/10)+1*10**(day.iloc[1,1]/10)+1*10**(day.iloc[2,1]/10)+1*10**(day.iloc[3,1]/10)+1*10**(day.iloc[4,1]/10)+1*10**(day.iloc[5,1]/10)+1*10**(day.iloc[6,1]/10)+1*10**(day.iloc[7,1]/10)+1*10**(day.iloc[8,1]/10)+1*10**(day.iloc[9,1]/10)+1*10**(day.iloc[10,1]/10)+1*10**(day.iloc[11,1]/10))/12)\n",
    "leve = 10*np.log10((1*10**(eve.iloc[0,1]/10)+1*10**(eve.iloc[1,1]/10)+1*10**(eve.iloc[2,1]/10)+1*10**(eve.iloc[3,1]/10))/4)\n",
    "lnight = 10*np.log10((1*10**(night.iloc[0,1]/10)+1*10**(night.iloc[1,1]/10)+1*10**(night.iloc[2,1]/10)+1*10**(night.iloc[3,1]/10)+1*10**(night.iloc[4,1]/10)+1*10**(night.iloc[5,1]/10)+1*10**(night.iloc[6,1]/10)+1*10**(night.iloc[7,1]/10))/8)\n",
    "#print(lday); print(leve); print(lnight)\n",
    "\n",
    "\n",
    "dolphins_lden = 10*np.log10(((12*10**(lday/10)) + (4*10**((leve+5)/10)) + (8*10**((lnight+10)/10)))/24) \n",
    "dolphins_lden"
   ]
  },
  {
   "cell_type": "code",
   "execution_count": 110,
   "id": "d619f0c0",
   "metadata": {},
   "outputs": [
    {
     "data": {
      "text/plain": [
       "59.843821679087974"
      ]
     },
     "execution_count": 110,
     "metadata": {},
     "output_type": "execute_result"
    }
   ],
   "source": [
    "# Rowing club station\n",
    "day = rowing_noise.iloc[6:18] # 7 am to 6 pm inclusive\n",
    "eve = rowing_noise.iloc[18:22] # 7 pm to 10 pm inlcusive\n",
    "night = pd.concat([rowing_noise.iloc[22:,], rowing_noise.iloc[0:6]]) # 11pm-6 am inclusive\n",
    "\n",
    "lday = 10*np.log10((1*10**(day.iloc[0,1]/10)+1*10**(day.iloc[1,1]/10)+1*10**(day.iloc[2,1]/10)+1*10**(day.iloc[3,1]/10)+1*10**(day.iloc[4,1]/10)+1*10**(day.iloc[5,1]/10)+1*10**(day.iloc[6,1]/10)+1*10**(day.iloc[7,1]/10)+1*10**(day.iloc[8,1]/10)+1*10**(day.iloc[9,1]/10)+1*10**(day.iloc[10,1]/10)+1*10**(day.iloc[11,1]/10))/12)\n",
    "leve = 10*np.log10((1*10**(eve.iloc[0,1]/10)+1*10**(eve.iloc[1,1]/10)+1*10**(eve.iloc[2,1]/10)+1*10**(eve.iloc[3,1]/10))/4)\n",
    "lnight = 10*np.log10((1*10**(night.iloc[0,1]/10)+1*10**(night.iloc[1,1]/10)+1*10**(night.iloc[2,1]/10)+1*10**(night.iloc[3,1]/10)+1*10**(night.iloc[4,1]/10)+1*10**(night.iloc[5,1]/10)+1*10**(night.iloc[6,1]/10)+1*10**(night.iloc[7,1]/10))/8)\n",
    "#print(lday); print(leve); print(lnight)\n",
    "\n",
    "\n",
    "rowing_lden = 10*np.log10(((12*10**(lday/10)) + (4*10**((leve+5)/10)) + (8*10**((lnight+10)/10)))/24)\n",
    "rowing_lden"
   ]
  },
  {
   "cell_type": "code",
   "execution_count": 111,
   "id": "79a8ab55",
   "metadata": {},
   "outputs": [
    {
     "data": {
      "text/plain": [
       "73.19097261008677"
      ]
     },
     "execution_count": 111,
     "metadata": {},
     "output_type": "execute_result"
    }
   ],
   "source": [
    "# Strand Road station\n",
    "day = strand_noise.iloc[6:18] # 7 am to 6 pm inclusive\n",
    "eve = strand_noise.iloc[18:22] # 7 pm to 10 pm inlcusive\n",
    "night = pd.concat([strand_noise.iloc[22:,], strand_noise.iloc[0:6]]) # 11pm-6 am inclusive\n",
    "\n",
    "lday = 10*np.log10((1*10**(day.iloc[0,1]/10)+1*10**(day.iloc[1,1]/10)+1*10**(day.iloc[2,1]/10)+1*10**(day.iloc[3,1]/10)+1*10**(day.iloc[4,1]/10)+1*10**(day.iloc[5,1]/10)+1*10**(day.iloc[6,1]/10)+1*10**(day.iloc[7,1]/10)+1*10**(day.iloc[8,1]/10)+1*10**(day.iloc[9,1]/10)+1*10**(day.iloc[10,1]/10)+1*10**(day.iloc[11,1]/10))/12)\n",
    "leve = 10*np.log10((1*10**(eve.iloc[0,1]/10)+1*10**(eve.iloc[1,1]/10)+1*10**(eve.iloc[2,1]/10)+1*10**(eve.iloc[3,1]/10))/4)\n",
    "lnight = 10*np.log10((1*10**(night.iloc[0,1]/10)+1*10**(night.iloc[1,1]/10)+1*10**(night.iloc[2,1]/10)+1*10**(night.iloc[3,1]/10)+1*10**(night.iloc[4,1]/10)+1*10**(night.iloc[5,1]/10)+1*10**(night.iloc[6,1]/10)+1*10**(night.iloc[7,1]/10))/8)\n",
    "#print(lday); print(leve); print(lnight)\n",
    "\n",
    "\n",
    "strand_lden = 10*np.log10(((12*10**(lday/10)) + (4*10**((leve+5)/10)) + (8*10**((lnight+10)/10)))/24)\n",
    "strand_lden"
   ]
  },
  {
   "cell_type": "code",
   "execution_count": 112,
   "id": "00c0a56a",
   "metadata": {},
   "outputs": [
    {
     "data": {
      "text/plain": [
       "67.67894575362286"
      ]
     },
     "execution_count": 112,
     "metadata": {},
     "output_type": "execute_result"
    }
   ],
   "source": [
    "# Ballymun station\n",
    "day = ballymun_noise.iloc[6:18] # 7 am to 6 pm inclusive\n",
    "eve = ballymun_noise.iloc[18:22] # 7 pm to 10 pm inlcusive\n",
    "night = pd.concat([ballymun_noise.iloc[22:,], ballymun_noise.iloc[0:6]]) # 11pm-6 am inclusive\n",
    "\n",
    "lday = 10*np.log10((1*10**(day.iloc[0,1]/10)+1*10**(day.iloc[1,1]/10)+1*10**(day.iloc[2,1]/10)+1*10**(day.iloc[3,1]/10)+1*10**(day.iloc[4,1]/10)+1*10**(day.iloc[5,1]/10)+1*10**(day.iloc[6,1]/10)+1*10**(day.iloc[7,1]/10)+1*10**(day.iloc[8,1]/10)+1*10**(day.iloc[9,1]/10)+1*10**(day.iloc[10,1]/10)+1*10**(day.iloc[11,1]/10))/12)\n",
    "leve = 10*np.log10((1*10**(eve.iloc[0,1]/10)+1*10**(eve.iloc[1,1]/10)+1*10**(eve.iloc[2,1]/10)+1*10**(eve.iloc[3,1]/10))/4)\n",
    "lnight = 10*np.log10((1*10**(night.iloc[0,1]/10)+1*10**(night.iloc[1,1]/10)+1*10**(night.iloc[2,1]/10)+1*10**(night.iloc[3,1]/10)+1*10**(night.iloc[4,1]/10)+1*10**(night.iloc[5,1]/10)+1*10**(night.iloc[6,1]/10)+1*10**(night.iloc[7,1]/10))/8)\n",
    "#print(lday); print(leve); print(lnight)\n",
    "\n",
    "\n",
    "ballymun_lden = 10*np.log10(((12*10**(lday/10)) + (4*10**((leve+5)/10)) + (8*10**((lnight+10)/10)))/24)\n",
    "ballymun_lden"
   ]
  },
  {
   "cell_type": "markdown",
   "id": "e1cde353",
   "metadata": {},
   "source": [
    "## EPA noise predicted data"
   ]
  },
  {
   "cell_type": "code",
   "execution_count": 76,
   "id": "4991b954",
   "metadata": {},
   "outputs": [
    {
     "data": {
      "text/html": [
       "<div>\n",
       "<style scoped>\n",
       "    .dataframe tbody tr th:only-of-type {\n",
       "        vertical-align: middle;\n",
       "    }\n",
       "\n",
       "    .dataframe tbody tr th {\n",
       "        vertical-align: top;\n",
       "    }\n",
       "\n",
       "    .dataframe thead th {\n",
       "        text-align: right;\n",
       "    }\n",
       "</style>\n",
       "<table border=\"1\" class=\"dataframe\">\n",
       "  <thead>\n",
       "    <tr style=\"text-align: right;\">\n",
       "      <th></th>\n",
       "      <th>OBJECTID</th>\n",
       "      <th>Name</th>\n",
       "      <th>Type</th>\n",
       "      <th>ReportPeri</th>\n",
       "      <th>dB_Low</th>\n",
       "      <th>dB_High</th>\n",
       "      <th>dB_Value</th>\n",
       "      <th>Time</th>\n",
       "      <th>LocalAutho</th>\n",
       "      <th>EDEN_code</th>\n",
       "      <th>geometry</th>\n",
       "    </tr>\n",
       "  </thead>\n",
       "  <tbody>\n",
       "    <tr>\n",
       "      <th>25</th>\n",
       "      <td>354</td>\n",
       "      <td>Dublin Agglomeration</td>\n",
       "      <td>Road</td>\n",
       "      <td>Rd3-2017</td>\n",
       "      <td>80</td>\n",
       "      <td>84</td>\n",
       "      <td>75-99</td>\n",
       "      <td>Lden</td>\n",
       "      <td>DUBLIN CITY COUNCIL</td>\n",
       "      <td>0700</td>\n",
       "      <td>MULTIPOLYGON (((317463.750 240481.382, 317466....</td>\n",
       "    </tr>\n",
       "    <tr>\n",
       "      <th>26</th>\n",
       "      <td>355</td>\n",
       "      <td>Dublin Agglomeration</td>\n",
       "      <td>Road</td>\n",
       "      <td>Rd3-2017</td>\n",
       "      <td>70</td>\n",
       "      <td>74</td>\n",
       "      <td>70-74</td>\n",
       "      <td>Lden</td>\n",
       "      <td>DUBLIN CITY COUNCIL</td>\n",
       "      <td>0700</td>\n",
       "      <td>MULTIPOLYGON (((309281.799 234882.023, 309286....</td>\n",
       "    </tr>\n",
       "    <tr>\n",
       "      <th>27</th>\n",
       "      <td>356</td>\n",
       "      <td>Dublin Agglomeration</td>\n",
       "      <td>Road</td>\n",
       "      <td>Rd3-2017</td>\n",
       "      <td>75</td>\n",
       "      <td>79</td>\n",
       "      <td>75-99</td>\n",
       "      <td>Lden</td>\n",
       "      <td>DUBLIN CITY COUNCIL</td>\n",
       "      <td>0700</td>\n",
       "      <td>MULTIPOLYGON (((316879.236 238318.964, 316869....</td>\n",
       "    </tr>\n",
       "    <tr>\n",
       "      <th>28</th>\n",
       "      <td>357</td>\n",
       "      <td>Dublin Agglomeration</td>\n",
       "      <td>Road</td>\n",
       "      <td>Rd3-2017</td>\n",
       "      <td>60</td>\n",
       "      <td>64</td>\n",
       "      <td>60-64</td>\n",
       "      <td>Lden</td>\n",
       "      <td>DUBLIN CITY COUNCIL</td>\n",
       "      <td>0700</td>\n",
       "      <td>MULTIPOLYGON (((314878.827 234258.721, 314872....</td>\n",
       "    </tr>\n",
       "    <tr>\n",
       "      <th>29</th>\n",
       "      <td>358</td>\n",
       "      <td>Dublin Agglomeration</td>\n",
       "      <td>Road</td>\n",
       "      <td>Rd3-2017</td>\n",
       "      <td>65</td>\n",
       "      <td>69</td>\n",
       "      <td>65-69</td>\n",
       "      <td>Lden</td>\n",
       "      <td>DUBLIN CITY COUNCIL</td>\n",
       "      <td>0700</td>\n",
       "      <td>MULTIPOLYGON (((309477.282 234788.952, 309477....</td>\n",
       "    </tr>\n",
       "    <tr>\n",
       "      <th>30</th>\n",
       "      <td>359</td>\n",
       "      <td>Dublin Agglomeration</td>\n",
       "      <td>Road</td>\n",
       "      <td>Rd3-2017</td>\n",
       "      <td>55</td>\n",
       "      <td>59</td>\n",
       "      <td>55-59</td>\n",
       "      <td>Lden</td>\n",
       "      <td>DUBLIN CITY COUNCIL</td>\n",
       "      <td>0700</td>\n",
       "      <td>MULTIPOLYGON (((310566.388 236895.106, 310567....</td>\n",
       "    </tr>\n",
       "    <tr>\n",
       "      <th>31</th>\n",
       "      <td>360</td>\n",
       "      <td>Dublin Agglomeration</td>\n",
       "      <td>Road</td>\n",
       "      <td>Rd3-2017</td>\n",
       "      <td>85</td>\n",
       "      <td>89</td>\n",
       "      <td>75-99</td>\n",
       "      <td>Lden</td>\n",
       "      <td>DUBLIN CITY COUNCIL</td>\n",
       "      <td>0700</td>\n",
       "      <td>MULTIPOLYGON (((307514.228 233218.443, 307515....</td>\n",
       "    </tr>\n",
       "    <tr>\n",
       "      <th>39</th>\n",
       "      <td>368</td>\n",
       "      <td>Dublin Agglomeration</td>\n",
       "      <td>Road</td>\n",
       "      <td>Rd3-2017</td>\n",
       "      <td>65</td>\n",
       "      <td>69</td>\n",
       "      <td>65-69</td>\n",
       "      <td>Lnight</td>\n",
       "      <td>DUBLIN CITY COUNCIL</td>\n",
       "      <td>0700</td>\n",
       "      <td>MULTIPOLYGON (((322214.065 241390.294, 322214....</td>\n",
       "    </tr>\n",
       "    <tr>\n",
       "      <th>40</th>\n",
       "      <td>369</td>\n",
       "      <td>Dublin Agglomeration</td>\n",
       "      <td>Road</td>\n",
       "      <td>Rd3-2017</td>\n",
       "      <td>55</td>\n",
       "      <td>59</td>\n",
       "      <td>55-59</td>\n",
       "      <td>Lnight</td>\n",
       "      <td>DUBLIN CITY COUNCIL</td>\n",
       "      <td>0700</td>\n",
       "      <td>MULTIPOLYGON (((309999.265 236756.733, 310000....</td>\n",
       "    </tr>\n",
       "    <tr>\n",
       "      <th>41</th>\n",
       "      <td>370</td>\n",
       "      <td>Dublin Agglomeration</td>\n",
       "      <td>Road</td>\n",
       "      <td>Rd3-2017</td>\n",
       "      <td>75</td>\n",
       "      <td>79</td>\n",
       "      <td>70-99</td>\n",
       "      <td>Lnight</td>\n",
       "      <td>DUBLIN CITY COUNCIL</td>\n",
       "      <td>0700</td>\n",
       "      <td>MULTIPOLYGON (((317871.133 241246.842, 317873....</td>\n",
       "    </tr>\n",
       "    <tr>\n",
       "      <th>42</th>\n",
       "      <td>371</td>\n",
       "      <td>Dublin Agglomeration</td>\n",
       "      <td>Road</td>\n",
       "      <td>Rd3-2017</td>\n",
       "      <td>70</td>\n",
       "      <td>74</td>\n",
       "      <td>70-99</td>\n",
       "      <td>Lnight</td>\n",
       "      <td>DUBLIN CITY COUNCIL</td>\n",
       "      <td>0700</td>\n",
       "      <td>MULTIPOLYGON (((317802.842 241141.694, 317831....</td>\n",
       "    </tr>\n",
       "    <tr>\n",
       "      <th>43</th>\n",
       "      <td>372</td>\n",
       "      <td>Dublin Agglomeration</td>\n",
       "      <td>Road</td>\n",
       "      <td>Rd3-2017</td>\n",
       "      <td>50</td>\n",
       "      <td>54</td>\n",
       "      <td>50-54</td>\n",
       "      <td>Lnight</td>\n",
       "      <td>DUBLIN CITY COUNCIL</td>\n",
       "      <td>0700</td>\n",
       "      <td>MULTIPOLYGON (((316559.186 234668.815, 316568....</td>\n",
       "    </tr>\n",
       "    <tr>\n",
       "      <th>44</th>\n",
       "      <td>373</td>\n",
       "      <td>Dublin Agglomeration</td>\n",
       "      <td>Road</td>\n",
       "      <td>Rd3-2017</td>\n",
       "      <td>60</td>\n",
       "      <td>64</td>\n",
       "      <td>60-64</td>\n",
       "      <td>Lnight</td>\n",
       "      <td>DUBLIN CITY COUNCIL</td>\n",
       "      <td>0700</td>\n",
       "      <td>MULTIPOLYGON (((310513.468 236901.083, 310519....</td>\n",
       "    </tr>\n",
       "    <tr>\n",
       "      <th>49</th>\n",
       "      <td>378</td>\n",
       "      <td>Dublin Agglomeration</td>\n",
       "      <td>Road</td>\n",
       "      <td>Rd3-2017</td>\n",
       "      <td>80</td>\n",
       "      <td>84</td>\n",
       "      <td>70-99</td>\n",
       "      <td>Lnight</td>\n",
       "      <td>DUBLIN CITY COUNCIL</td>\n",
       "      <td>0700</td>\n",
       "      <td>MULTIPOLYGON (((307485.454 233326.100, 307486....</td>\n",
       "    </tr>\n",
       "  </tbody>\n",
       "</table>\n",
       "</div>"
      ],
      "text/plain": [
       "    OBJECTID                  Name  Type ReportPeri  dB_Low  dB_High dB_Value  \\\n",
       "25       354  Dublin Agglomeration  Road   Rd3-2017      80       84    75-99   \n",
       "26       355  Dublin Agglomeration  Road   Rd3-2017      70       74    70-74   \n",
       "27       356  Dublin Agglomeration  Road   Rd3-2017      75       79    75-99   \n",
       "28       357  Dublin Agglomeration  Road   Rd3-2017      60       64    60-64   \n",
       "29       358  Dublin Agglomeration  Road   Rd3-2017      65       69    65-69   \n",
       "30       359  Dublin Agglomeration  Road   Rd3-2017      55       59    55-59   \n",
       "31       360  Dublin Agglomeration  Road   Rd3-2017      85       89    75-99   \n",
       "39       368  Dublin Agglomeration  Road   Rd3-2017      65       69    65-69   \n",
       "40       369  Dublin Agglomeration  Road   Rd3-2017      55       59    55-59   \n",
       "41       370  Dublin Agglomeration  Road   Rd3-2017      75       79    70-99   \n",
       "42       371  Dublin Agglomeration  Road   Rd3-2017      70       74    70-99   \n",
       "43       372  Dublin Agglomeration  Road   Rd3-2017      50       54    50-54   \n",
       "44       373  Dublin Agglomeration  Road   Rd3-2017      60       64    60-64   \n",
       "49       378  Dublin Agglomeration  Road   Rd3-2017      80       84    70-99   \n",
       "\n",
       "      Time           LocalAutho EDEN_code  \\\n",
       "25    Lden  DUBLIN CITY COUNCIL      0700   \n",
       "26    Lden  DUBLIN CITY COUNCIL      0700   \n",
       "27    Lden  DUBLIN CITY COUNCIL      0700   \n",
       "28    Lden  DUBLIN CITY COUNCIL      0700   \n",
       "29    Lden  DUBLIN CITY COUNCIL      0700   \n",
       "30    Lden  DUBLIN CITY COUNCIL      0700   \n",
       "31    Lden  DUBLIN CITY COUNCIL      0700   \n",
       "39  Lnight  DUBLIN CITY COUNCIL      0700   \n",
       "40  Lnight  DUBLIN CITY COUNCIL      0700   \n",
       "41  Lnight  DUBLIN CITY COUNCIL      0700   \n",
       "42  Lnight  DUBLIN CITY COUNCIL      0700   \n",
       "43  Lnight  DUBLIN CITY COUNCIL      0700   \n",
       "44  Lnight  DUBLIN CITY COUNCIL      0700   \n",
       "49  Lnight  DUBLIN CITY COUNCIL      0700   \n",
       "\n",
       "                                             geometry  \n",
       "25  MULTIPOLYGON (((317463.750 240481.382, 317466....  \n",
       "26  MULTIPOLYGON (((309281.799 234882.023, 309286....  \n",
       "27  MULTIPOLYGON (((316879.236 238318.964, 316869....  \n",
       "28  MULTIPOLYGON (((314878.827 234258.721, 314872....  \n",
       "29  MULTIPOLYGON (((309477.282 234788.952, 309477....  \n",
       "30  MULTIPOLYGON (((310566.388 236895.106, 310567....  \n",
       "31  MULTIPOLYGON (((307514.228 233218.443, 307515....  \n",
       "39  MULTIPOLYGON (((322214.065 241390.294, 322214....  \n",
       "40  MULTIPOLYGON (((309999.265 236756.733, 310000....  \n",
       "41  MULTIPOLYGON (((317871.133 241246.842, 317873....  \n",
       "42  MULTIPOLYGON (((317802.842 241141.694, 317831....  \n",
       "43  MULTIPOLYGON (((316559.186 234668.815, 316568....  \n",
       "44  MULTIPOLYGON (((310513.468 236901.083, 310519....  \n",
       "49  MULTIPOLYGON (((307485.454 233326.100, 307486....  "
      ]
     },
     "execution_count": 76,
     "metadata": {},
     "output_type": "execute_result"
    }
   ],
   "source": [
    "# load data\n",
    "noise_map = gpd.read_file(\"C:\\\\Users\\\\Rebecca\\\\Documents\\\\Trinity\\\\Thesis\\\\Noise_Round3_Road\\\\NOISE_Rd3_Road.shp\")\n",
    "\n",
    "# select only Dublin city\n",
    "dublin_noise_map = noise_map[noise_map['LocalAutho'].str.contains(\"DUBLIN CITY\")]\n",
    "\n",
    "dublin_noise_map"
   ]
  },
  {
   "cell_type": "code",
   "execution_count": 78,
   "id": "6521500a",
   "metadata": {},
   "outputs": [],
   "source": [
    "dublin_noise_map.to_csv('dublin_noise_map.csv') \n"
   ]
  },
  {
   "cell_type": "code",
   "execution_count": null,
   "id": "4182c54b",
   "metadata": {},
   "outputs": [],
   "source": [
    "# manually querying points on strategic map \n",
    "\n",
    "# dolphins barn 55-59dB\n",
    "# strand road 60-64dB\n",
    "# dcc 55-59dB\n",
    "# ballymun \t60-64dB"
   ]
  },
  {
   "cell_type": "markdown",
   "id": "92ef9cc6",
   "metadata": {},
   "source": [
    "## For mapping purposes \n",
    "Mapping done in GIS"
   ]
  },
  {
   "cell_type": "markdown",
   "id": "b4f5251e",
   "metadata": {},
   "source": [
    "### Monitor locations"
   ]
  },
  {
   "cell_type": "code",
   "execution_count": 80,
   "id": "8d3a9e29",
   "metadata": {},
   "outputs": [],
   "source": [
    "# monitor location data\n",
    "monitor_locs = pd.read_csv(r'C:\\\\Users\\\\Rebecca\\\\Documents\\\\Trinity\\\\Thesis\\\\Noise_monitor_locations.csv')\n"
   ]
  },
  {
   "cell_type": "code",
   "execution_count": 81,
   "id": "2afa06d9",
   "metadata": {},
   "outputs": [
    {
     "data": {
      "text/html": [
       "<div>\n",
       "<style scoped>\n",
       "    .dataframe tbody tr th:only-of-type {\n",
       "        vertical-align: middle;\n",
       "    }\n",
       "\n",
       "    .dataframe tbody tr th {\n",
       "        vertical-align: top;\n",
       "    }\n",
       "\n",
       "    .dataframe thead th {\n",
       "        text-align: right;\n",
       "    }\n",
       "</style>\n",
       "<table border=\"1\" class=\"dataframe\">\n",
       "  <thead>\n",
       "    <tr style=\"text-align: right;\">\n",
       "      <th></th>\n",
       "      <th>Location</th>\n",
       "      <th>latitude</th>\n",
       "      <th>longitude</th>\n",
       "    </tr>\n",
       "  </thead>\n",
       "  <tbody>\n",
       "    <tr>\n",
       "      <th>0</th>\n",
       "      <td>Drumcondra Library</td>\n",
       "      <td>53.3699</td>\n",
       "      <td>-6.2590</td>\n",
       "    </tr>\n",
       "    <tr>\n",
       "      <th>1</th>\n",
       "      <td>Bull Island</td>\n",
       "      <td>53.3687</td>\n",
       "      <td>-6.1493</td>\n",
       "    </tr>\n",
       "    <tr>\n",
       "      <th>2</th>\n",
       "      <td>Ballyfermot Civic Centre</td>\n",
       "      <td>53.3433</td>\n",
       "      <td>-6.3629</td>\n",
       "    </tr>\n",
       "    <tr>\n",
       "      <th>3</th>\n",
       "      <td>Ballymun</td>\n",
       "      <td>53.3904</td>\n",
       "      <td>-6.2648</td>\n",
       "    </tr>\n",
       "    <tr>\n",
       "      <th>4</th>\n",
       "      <td>DCC Rowing Club</td>\n",
       "      <td>53.3461</td>\n",
       "      <td>-6.3210</td>\n",
       "    </tr>\n",
       "    <tr>\n",
       "      <th>5</th>\n",
       "      <td>Walkinstown</td>\n",
       "      <td>53.3195</td>\n",
       "      <td>-6.3219</td>\n",
       "    </tr>\n",
       "    <tr>\n",
       "      <th>6</th>\n",
       "      <td>Woodstock Gardens</td>\n",
       "      <td>53.3235</td>\n",
       "      <td>-6.2477</td>\n",
       "    </tr>\n",
       "    <tr>\n",
       "      <th>7</th>\n",
       "      <td>Navan Road</td>\n",
       "      <td>53.3708</td>\n",
       "      <td>-6.3256</td>\n",
       "    </tr>\n",
       "    <tr>\n",
       "      <th>8</th>\n",
       "      <td>Raheny</td>\n",
       "      <td>53.3800</td>\n",
       "      <td>-6.1728</td>\n",
       "    </tr>\n",
       "    <tr>\n",
       "      <th>9</th>\n",
       "      <td>Ringsend Sports Centre</td>\n",
       "      <td>53.3400</td>\n",
       "      <td>-6.2200</td>\n",
       "    </tr>\n",
       "    <tr>\n",
       "      <th>10</th>\n",
       "      <td>Chancery Park</td>\n",
       "      <td>53.3467</td>\n",
       "      <td>-6.2722</td>\n",
       "    </tr>\n",
       "    <tr>\n",
       "      <th>11</th>\n",
       "      <td>Blessington Basin</td>\n",
       "      <td>53.3572</td>\n",
       "      <td>-6.2709</td>\n",
       "    </tr>\n",
       "    <tr>\n",
       "      <th>12</th>\n",
       "      <td>Dolphins Barn</td>\n",
       "      <td>53.3311</td>\n",
       "      <td>-6.2925</td>\n",
       "    </tr>\n",
       "    <tr>\n",
       "      <th>13</th>\n",
       "      <td>Mellows Park</td>\n",
       "      <td>53.3903</td>\n",
       "      <td>-6.3039</td>\n",
       "    </tr>\n",
       "    <tr>\n",
       "      <th>14</th>\n",
       "      <td>Strand Road</td>\n",
       "      <td>53.3280</td>\n",
       "      <td>-6.2088</td>\n",
       "    </tr>\n",
       "  </tbody>\n",
       "</table>\n",
       "</div>"
      ],
      "text/plain": [
       "                    Location  latitude  longitude\n",
       "0         Drumcondra Library   53.3699    -6.2590\n",
       "1                Bull Island   53.3687    -6.1493\n",
       "2   Ballyfermot Civic Centre   53.3433    -6.3629\n",
       "3                   Ballymun   53.3904    -6.2648\n",
       "4            DCC Rowing Club   53.3461    -6.3210\n",
       "5                Walkinstown   53.3195    -6.3219\n",
       "6          Woodstock Gardens   53.3235    -6.2477\n",
       "7                 Navan Road   53.3708    -6.3256\n",
       "8                     Raheny   53.3800    -6.1728\n",
       "9     Ringsend Sports Centre   53.3400    -6.2200\n",
       "10             Chancery Park   53.3467    -6.2722\n",
       "11         Blessington Basin   53.3572    -6.2709\n",
       "12             Dolphins Barn   53.3311    -6.2925\n",
       "13              Mellows Park   53.3903    -6.3039\n",
       "14               Strand Road   53.3280    -6.2088"
      ]
     },
     "execution_count": 81,
     "metadata": {},
     "output_type": "execute_result"
    }
   ],
   "source": [
    "monitor_locs"
   ]
  },
  {
   "cell_type": "code",
   "execution_count": 82,
   "id": "6d378a1d",
   "metadata": {
    "scrolled": true
   },
   "outputs": [
    {
     "name": "stderr",
     "output_type": "stream",
     "text": [
      "C:\\Users\\Rebecca\\AppData\\Local\\Temp\\ipykernel_11572\\1498871722.py:4: FutureWarning: Using the level keyword in DataFrame and Series aggregations is deprecated and will be removed in a future version. Use groupby instead. df.any(level=1) should use df.groupby(level=1).any()\n",
      "  monitors = monitor_locs[monitor_locs.stack().str.contains('|'.join(stations)).any(level=0)]\n"
     ]
    }
   ],
   "source": [
    "# select my 4 stations of interest\n",
    "stations = ['Ballymun', 'DCC Rowing Club', 'Dolphins Barn', 'Strand Road']\n",
    "type(stations)\n",
    "monitors = monitor_locs[monitor_locs.stack().str.contains('|'.join(stations)).any(level=0)]\n",
    "monitors.reset_index(drop=True, inplace=True)\n",
    "monitors\n",
    "\n",
    "monitors.to_csv('monitors_of_interest.csv') \n"
   ]
  },
  {
   "cell_type": "code",
   "execution_count": 86,
   "id": "8828b7cf",
   "metadata": {},
   "outputs": [],
   "source": [
    "# extract only dublin boundary entries for GIS \n",
    "# load data\n",
    "dublin_map = gpd.read_file(\"C:\\\\Users\\\\Rebecca\\\\Documents\\\\Trinity\\\\Thesis\\\\Dublin_city_boundary\\\\Planning_Boundary_Data.shp\")\n",
    "\n",
    "# select only Dublin city\n",
    "dublin_map = dublin_map[dublin_map['NAME'].str.contains(\"Dublin city\")]\n",
    "\n",
    "dublin_map.to_csv('dublin_map.csv') \n"
   ]
  },
  {
   "cell_type": "markdown",
   "id": "72962c20",
   "metadata": {},
   "source": [
    "# Strava selected routes"
   ]
  },
  {
   "cell_type": "code",
   "execution_count": 14,
   "id": "63f61414",
   "metadata": {},
   "outputs": [
    {
     "name": "stdout",
     "output_type": "stream",
     "text": [
      "21.77777777777778\n",
      "25.77777777777778\n"
     ]
    }
   ],
   "source": [
    "#calculate time to cycle the routes of interest - near DCC rowing club monitor\n",
    "# time = distance / speed\n",
    "\n",
    "rowing_pop_dist = 5.8 # km \n",
    "rowing_direct_dist = 4.9 # km\n",
    "ave_speed = 13.5 # km/h\n",
    "\n",
    "t_dir = rowing_direct_dist/ave_speed # time on direct route\n",
    "t_pop = rowing_pop_dist/ave_speed # time on popular route\n",
    "\n",
    "\n",
    "print(t_dir*60); print(t_pop*60)\n"
   ]
  },
  {
   "cell_type": "markdown",
   "id": "c8a0724d",
   "metadata": {},
   "source": [
    "## Direct vs popular route noise exposure"
   ]
  },
  {
   "cell_type": "code",
   "execution_count": null,
   "id": "f0d366a5",
   "metadata": {},
   "outputs": [],
   "source": [
    "# Estimate noise exposure of cyclist using the direct and popular route\n",
    "\n",
    "Lw = 80; # Workplace level\n",
    "Lc = 70; # Cycling Level\n",
    "\n",
    "td = 21.78;  # direct duration mins\n",
    "tp = 25.78; # popular duration\n",
    "\n",
    "\n",
    "# use one of these equations;\n",
    "#Exposure = 10*np.log10((tw*10**(Lw/10)+tc*10**(Lc/10))/8)\n",
    "\n",
    "#leve = 10*np.log10((1*10**(eve.iloc[0,1]/10)+1*10**(eve.iloc[1,1]/10)+1*10**(eve.iloc[2,1]/10)+1*10**(eve.iloc[3,1]/10))/4)\n"
   ]
  },
  {
   "cell_type": "code",
   "execution_count": 52,
   "id": "5d2263b5",
   "metadata": {},
   "outputs": [
    {
     "name": "stdout",
     "output_type": "stream",
     "text": [
      "       Level  Time1  Time2\n",
      "0        0.0   0.00   8.17\n",
      "1       52.0   1.77   0.00\n",
      "2       57.0   0.00  10.59\n",
      "3       62.0   5.55   4.33\n",
      "4       67.0  10.45   0.00\n",
      "5       72.0   4.37   1.56\n",
      "6       87.0   0.00   0.00\n",
      "Total  397.0  22.14  24.65\n",
      "68.15280751857821\n",
      "62.65931660502797\n"
     ]
    }
   ],
   "source": [
    "# Entire route noise exposure calculation \n",
    "\n",
    "route_levels = {'Level':  [0, 52, 57, 62, 67, 72, 87],\n",
    "        'Time1': [0, 1.77, 0, 5.55, 10.45, 4.37, 0],\n",
    "        'Time2': [8.17, 0, 10.59, 4.33, 0, 1.56, 0],\n",
    "        }\n",
    "\n",
    "route_levels = pd.DataFrame(route_levels)\n",
    "route_levels.loc['Total'] = route_levels.sum(numeric_only=True)\n",
    "print (route_levels)\n",
    "\n",
    "# calculate exposure of a cyclist on each routeover an equivalent 20 minute journey\n",
    "l_route1 = 10*np.log10((route_levels.iloc[0,1]*10**(route_levels.iloc[0,0]/10)+route_levels.iloc[1,1]*10**(route_levels.iloc[1,0]/10)+route_levels.iloc[2,1]*10**(route_levels.iloc[2,0]/10)+route_levels.iloc[3,1]*10**(route_levels.iloc[3,0]/10)+route_levels.iloc[4,1]*10**(route_levels.iloc[4,0]/10)+route_levels.iloc[5,1]*10**(route_levels.iloc[5,0]/10)+route_levels.iloc[6,1]*10**(route_levels.iloc[6,0]/10))/20)\n",
    "l_route2 = 10*np.log10((route_levels.iloc[0,2]*10**(route_levels.iloc[0,0]/10)+route_levels.iloc[1,2]*10**(route_levels.iloc[1,0]/10)+route_levels.iloc[2,2]*10**(route_levels.iloc[2,0]/10)+route_levels.iloc[3,2]*10**(route_levels.iloc[3,0]/10)+route_levels.iloc[4,2]*10**(route_levels.iloc[4,0]/10)+route_levels.iloc[5,2]*10**(route_levels.iloc[5,0]/10)+route_levels.iloc[6,2]*10**(route_levels.iloc[6,0]/10))/20)\n",
    "\n",
    "print(l_route1); print(l_route2)"
   ]
  },
  {
   "cell_type": "code",
   "execution_count": 53,
   "id": "b035d81e",
   "metadata": {},
   "outputs": [
    {
     "name": "stdout",
     "output_type": "stream",
     "text": [
      "       Level  Time1  Time2\n",
      "0        0.0   0.00   7.51\n",
      "1       52.0   1.78   0.15\n",
      "2       57.0   0.00  12.06\n",
      "3       62.0   1.91   0.26\n",
      "4       67.0  11.78   0.00\n",
      "5       72.0   0.43   0.00\n",
      "6       87.0   0.00   0.00\n",
      "Total  397.0  15.90  19.98\n",
      "65.38851072415798\n",
      "55.10556482364163\n"
     ]
    }
   ],
   "source": [
    "# Deviation sub-section noise exposure calculation \n",
    "\n",
    "route_levels = {'Level':  [0, 52, 57, 62, 67, 72, 87],\n",
    "        'Time1': [0, 1.78, 0, 1.91, 11.78, 0.43, 0],\n",
    "        'Time2': [7.51, 0.15, 12.06, 0.26, 0, 0, 0],\n",
    "        }\n",
    "\n",
    "route_levels = pd.DataFrame(route_levels)\n",
    "route_levels.loc['Total'] = route_levels.sum(numeric_only=True)\n",
    "print (route_levels)\n",
    "\n",
    "# calculate exposure of a cyclist on each routeover an equivalent 20 minute journey\n",
    "l_route1 = 10*np.log10((route_levels.iloc[0,1]*10**(route_levels.iloc[0,0]/10)+route_levels.iloc[1,1]*10**(route_levels.iloc[1,0]/10)+route_levels.iloc[2,1]*10**(route_levels.iloc[2,0]/10)+route_levels.iloc[3,1]*10**(route_levels.iloc[3,0]/10)+route_levels.iloc[4,1]*10**(route_levels.iloc[4,0]/10)+route_levels.iloc[5,1]*10**(route_levels.iloc[5,0]/10)+route_levels.iloc[6,1]*10**(route_levels.iloc[6,0]/10))/20)\n",
    "l_route2 = 10*np.log10((route_levels.iloc[0,2]*10**(route_levels.iloc[0,0]/10)+route_levels.iloc[1,2]*10**(route_levels.iloc[1,0]/10)+route_levels.iloc[2,2]*10**(route_levels.iloc[2,0]/10)+route_levels.iloc[3,2]*10**(route_levels.iloc[3,0]/10)+route_levels.iloc[4,2]*10**(route_levels.iloc[4,0]/10)+route_levels.iloc[5,2]*10**(route_levels.iloc[5,0]/10)+route_levels.iloc[6,2]*10**(route_levels.iloc[6,0]/10))/20)\n",
    "\n",
    "print(l_route1); print(l_route2)"
   ]
  }
 ],
 "metadata": {
  "kernelspec": {
   "display_name": "Python (ox)",
   "language": "python",
   "name": "ox"
  },
  "language_info": {
   "codemirror_mode": {
    "name": "ipython",
    "version": 3
   },
   "file_extension": ".py",
   "mimetype": "text/x-python",
   "name": "python",
   "nbconvert_exporter": "python",
   "pygments_lexer": "ipython3",
   "version": "3.10.5"
  }
 },
 "nbformat": 4,
 "nbformat_minor": 5
}
